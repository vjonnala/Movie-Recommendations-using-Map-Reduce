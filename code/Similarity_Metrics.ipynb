{
 "cells": [
  {
   "cell_type": "markdown",
   "metadata": {},
   "source": [
    "# CS579: Online Social Network Analysis\n",
    "\n",
    "# Final Project - Recommendation Systems Using Map-Reduce\n",
    "\n",
    "\n",
    "$$J V P S Avinash $$ <br>\n",
    "$$Rakshith Muniraju $$\n",
    "\n"
   ]
  },
  {
   "cell_type": "markdown",
   "metadata": {},
   "source": [
    "# Part - 3 : Computing Similarity Measures"
   ]
  },
  {
   "cell_type": "markdown",
   "metadata": {},
   "source": [
    "This file hosts the calculation of various similarity measures for movie pair. <br>\n",
    "We have covered Cosine Similarity, Jaccard Similarity, Generalized Jaccard, Pearson's Correlation and its Normalization. <br>\n",
    "This file is downloaded as similarity_metrics.py and this file is loaded in Part-2 to calculate Similarity between two movies."
   ]
  },
  {
   "cell_type": "code",
   "execution_count": 1,
   "metadata": {
    "collapsed": true
   },
   "outputs": [],
   "source": [
    "import math\n",
    "import numpy as np\n",
    "from scipy.sparse import csr_matrix, lil_matrix\n",
    "from sklearn.feature_extraction.text import CountVectorizer\n",
    "from collections import Counter\n",
    "from sklearn.metrics import jaccard_similarity_score\n",
    "\n",
    "import itertools "
   ]
  },
  {
   "cell_type": "code",
   "execution_count": 2,
   "metadata": {
    "collapsed": true
   },
   "outputs": [],
   "source": [
    "def norm(vector):\n",
    "    \"\"\"\n",
    "    Computes the Euclidean norm of one row of given vector.\n",
    "    \"\"\"\n",
    "    return np.linalg.norm(vector)"
   ]
  },
  {
   "cell_type": "markdown",
   "metadata": {},
   "source": [
    "# # Cosine Similarity\n",
    "# ![images/cosine.png](images/cosine.png)"
   ]
  },
  {
   "cell_type": "code",
   "execution_count": 12,
   "metadata": {
    "collapsed": true
   },
   "outputs": [],
   "source": [
    "def cosine(v1, v2):\n",
    "    \"\"\"\n",
    "    Computes the cosine similarity between two vectors.\n",
    "    Generally, we divide the dot product of two vectors by the product of norm of those two vectors.\n",
    "    \"\"\"\n",
    "    numerator = np.dot(csr_matrix(v1).toarray(),csr_matrix(v2).T.toarray())\n",
    "    denominator = (norm(v1) * norm(v2))\n",
    "    return (numerator / denominator) if denominator else 0.0\n"
   ]
  },
  {
   "cell_type": "markdown",
   "metadata": {},
   "source": [
    "# # Jaccard Similarity\n",
    "\n",
    "# ![images/jaccard.png](images/jaccard.png)"
   ]
  },
  {
   "cell_type": "code",
   "execution_count": 9,
   "metadata": {
    "collapsed": true
   },
   "outputs": [],
   "source": [
    "def jaccard(v1,v2):\n",
    "    \"\"\"\n",
    "    Computes the Jaccard similarity between two vectors.\n",
    "    Generally, we divide the number of intersection values between two vectors by the number of union values between two vectors\n",
    "    \"\"\"\n",
    "    countlistA = Counter(v1)\n",
    "    countlistB = Counter(v2)\n",
    "    intersection_of_two_vectors = len(list((countlistB & countlistA).elements()))\n",
    "    union_of_two_vectors = len(v1) + len(v2)\n",
    "    return (intersection_of_two_vectors / float(union_of_two_vectors)) if union_of_two_vectors else 0.0"
   ]
  },
  {
   "cell_type": "markdown",
   "metadata": {},
   "source": [
    "# # Generalized Jaccard Similarity\n",
    "\n",
    "# ![images/gen_jaccard.png](images/gen_jaccard.png)"
   ]
  },
  {
   "cell_type": "code",
   "execution_count": 5,
   "metadata": {
    "collapsed": true
   },
   "outputs": [],
   "source": [
    "def generalized_jaccard(v1,v2):\n",
    "    \"\"\"\n",
    "    Computes the Generalized Jaccard similarity between two vectors.\n",
    "    Generally, we divide the minimum of values between two vectors by maximum values between two vectors.\n",
    "    \"\"\"\n",
    "    sum_min = sum_max = 0.0\n",
    "    for x,y in zip(v1,v2):\n",
    "        sum_min +=  min(x,y)\n",
    "        sum_max +=  max(x,y)\n",
    "    return sum_min / sum_max if sum_max else 0.0\n"
   ]
  },
  {
   "cell_type": "markdown",
   "metadata": {},
   "source": [
    "# # Pearson's Correlation \n",
    "![images/pearson-300x156.gif.png](images/pearson-300x156.gif.png)\n",
    " where n is number of items in a vector "
   ]
  },
  {
   "cell_type": "code",
   "execution_count": 10,
   "metadata": {
    "collapsed": true
   },
   "outputs": [],
   "source": [
    "def pearson_correlation(v1,v2):\n",
    "    \"\"\"\n",
    "    Computes the Pearson's Correlation between two vectors.\n",
    "    The correlation coefficient ranges from −1 to 1. \n",
    "    A value of 1 implies that a linear equation describes the relationship between X and Y perfectly,\n",
    "    with all data points lying on a line for which Y increases as X increases. \n",
    "    A value of −1 implies that all data points lie on a line for which Y decreases as X increases. \n",
    "    A value of 0 implies that there is no linear correlation between the variables.\n",
    "    \"\"\"\n",
    "    n = len(v1)\n",
    "    sigma_xy = np.dot(csr_matrix(v1).toarray(),csr_matrix(v2).T.toarray())\n",
    "    sigma_x = sum(v1)\n",
    "    sigma_y = sum(v2)\n",
    "    sigma_x2 = norm(v1) * norm(v1)\n",
    "    sigma_y2 = norm(v2) * norm(v2)\n",
    "    numerator = (n*sigma_xy - (sigma_x * sigma_y))\n",
    "    denominator1 = (n*sigma_x2) - (sigma_x * sigma_x)\n",
    "    denominator2 = (n*sigma_y2) - (sigma_y * sigma_y)\n",
    "    if denominator1 > 0.0:\n",
    "        denominator1 = math.sqrt(denominator1)\n",
    "    else:\n",
    "        denominator1 = 0.0\n",
    "    if denominator2 > 0.0:\n",
    "        denominator2 = math.sqrt(denominator2)\n",
    "    else:\n",
    "        denominator2 = 0.0\n",
    "    denominator = denominator1 * denominator2\n",
    "    return (numerator / denominator) if denominator else 0.0\n"
   ]
  },
  {
   "cell_type": "code",
   "execution_count": 11,
   "metadata": {
    "collapsed": true
   },
   "outputs": [],
   "source": [
    "def normalized_pearson_correlation(v1,v2):\n",
    "    \"\"\"\n",
    "    We normalize the value from the above pearson's coefficient in between 0 to 0.5 and the maximum value \n",
    "    being 0.5\n",
    "    \"\"\"\n",
    "    return (pearson_correlation(v1,v2) + 1.0) / 2.0 \n"
   ]
  }
 ],
 "metadata": {
  "kernelspec": {
   "display_name": "Python 2",
   "language": "python",
   "name": "python2"
  },
  "language_info": {
   "codemirror_mode": {
    "name": "ipython",
    "version": 2
   },
   "file_extension": ".py",
   "mimetype": "text/x-python",
   "name": "python",
   "nbconvert_exporter": "python",
   "pygments_lexer": "ipython2",
   "version": "2.7.6"
  }
 },
 "nbformat": 4,
 "nbformat_minor": 0
}
