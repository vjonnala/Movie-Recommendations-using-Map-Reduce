{
 "cells": [
  {
   "cell_type": "markdown",
   "metadata": {},
   "source": [
    "# CS579: Online Social Network Analysis\n",
    "\n",
    "# Final Project - Recommendation Systems Using Map-Reduce\n",
    "\n",
    "\n",
    "$$J V P S Avinash $$ <br>\n",
    "$$Rakshith Muniraju $$\n",
    "\n"
   ]
  },
  {
   "cell_type": "markdown",
   "metadata": {},
   "source": [
    "# Part - 2 : Map Reduce Algorithm"
   ]
  },
  {
   "cell_type": "markdown",
   "metadata": {},
   "source": [
    "This file runs the Map-Reduce Algorithm to implement movie Recommendations.<br>\n",
    "To find the Similarity between two movies, we used various similarity measures. These measures are present in a separate python file. <br>\n",
    "The file is imported into this file to make use of those functions. <br>"
   ]
  },
  {
   "cell_type": "code",
   "execution_count": 17,
   "metadata": {
    "collapsed": false
   },
   "outputs": [],
   "source": [
    "# Import the similarity measures from similarity_metrics.py\n",
    "%matplotlib inline\n",
    "from Similarity_Metrics import norm,cosine,jaccard,generalized_jaccard,pearson_correlation,normalized_pearson_correlation"
   ]
  },
  {
   "cell_type": "code",
   "execution_count": 18,
   "metadata": {
    "collapsed": false
   },
   "outputs": [
    {
     "name": "stdout",
     "output_type": "stream",
     "text": [
      "Overwriting movieSimilarities_with_MapReduce.py\n"
     ]
    }
   ],
   "source": [
    "%%file movieSimilarities_with_MapReduce.py\n",
    "#-*-coding: utf-8 -*-\n",
    "\n",
    "from mrjob.job import MRJob\n",
    "from mrjob.step import MRStep\n",
    "from math import sqrt\n",
    "import matplotlib.pyplot as plt\n",
    "# Import all the Similarity Measures from the Similarity Metrics python file\n",
    "from Similarity_Metrics import norm,cosine,jaccard,generalized_jaccard,pearson_correlation,normalized_pearson_correlation\n",
    "\n",
    "'''\n",
    "The below function expands the item,rating information. \n",
    "For all the (item,rating) pairs of all the users, the function gives a combination of \n",
    "(item,item),(rating,rating). This format is useful in extracting both the Movie Vectors and to compute the\n",
    "similarity between them.\n",
    "\n",
    "Eg:- For a Movie,Rating Pairs given by various users (Movie1,R1),(Movie2,R2) it generates \n",
    "(Movie1,Movie2) and (R1,R2) Pairs.\n",
    "'''\n",
    "def expand_ratings(l1):\n",
    "    c = len(l1)\n",
    "    i = 0;\n",
    "    tot = list()\n",
    "    for idx, elem in enumerate(l1):\n",
    "        i = i+1\n",
    "        j = i\n",
    "        thiselem = elem\n",
    "        while j < c:\n",
    "            nextelem = l1[(j) % c]    \n",
    "            a = (thiselem[0],nextelem[0])\n",
    "            b = (thiselem[1],nextelem[1])\n",
    "            tot.append((a,b))\n",
    "            j = j+1\n",
    "    return tot\n",
    "\n",
    "'''\n",
    "The Below Class implements the actual Map Reduce Algorithm.\n",
    "The Job contains three steps, namely, Mapper , Combiner and Reducer.\n",
    "\n",
    "Mapper Function:-\n",
    "The Mapper reads the input from the user file which has schema user_name|item_name|rating\n",
    "The Mapper groups the records by user name and emits a set of (item_name,rating) pairs\n",
    "\n",
    "Combiner Function:-\n",
    "The combiner reads the output from the Mapper partitioned by user_name. So all the user's set go into \n",
    "combiner. We extract all the movie,rating combinations from the expand_rating function.\n",
    "From these combinations, we pair up the movie combinations along with the rating information and is emitted as \n",
    "Combiner output.\n",
    "\n",
    "Reducer Function:-\n",
    "The reducer takes the output from the Combiner partitioned by movie combinations. All the set of movie \n",
    "combinations rated by various users come into reducer. From these set, we form MovieA and MovieB vectors. \n",
    "We use these vectors to calculate the similarity between them.\n",
    "We emit the values from the similarity measures along with their movie pairs.\n",
    "'''\n",
    "class MoviesSimilarities(MRJob):\n",
    "\n",
    "    def steps(self):\n",
    "        return [MRStep(mapper=self.group_by_user_rating,\n",
    "                       combiner = self.get_pairwise_items,\n",
    "                       reducer=self.pairwise_items_similarity)]\n",
    "\n",
    "    def group_by_user_rating(self, key, line):\n",
    "\n",
    "        user_id, item_id, rating = line.split('|')\n",
    "        yield  user_id, (item_id, float(rating))\n",
    "\n",
    "    def get_pairwise_items(self, user_id, values):\n",
    "        item_count = 0\n",
    "        item_sum = 0\n",
    "        final = []\n",
    "        movie_final = list()\n",
    "        movie_ratings = list()\n",
    "        for item_id, rating in values:\n",
    "            item_count += 1\n",
    "            item_sum += rating\n",
    "            final.append((item_id, rating))\n",
    "            \n",
    "        rat = expand_ratings(final)\n",
    "        for item1, item2 in rat:\n",
    "            yield (item1[0], item1[1]), \\\n",
    "                    (item2[0], item2[1])\n",
    "\n",
    "    def pairwise_items_similarity(self, user_id, values):\n",
    "        movieA = list()\n",
    "        movieB = list()\n",
    "        item1,item2 = user_id\n",
    "        for val in values:\n",
    "            movieA.append(val[0])\n",
    "            movieB.append(val[1])\n",
    "        Cosine_Similarity = round(cosine(movieA,movieB), 5)\n",
    "        Jaccard_Similarity = round(jaccard(movieA,movieB) , 5)\n",
    "        Generalized_Jaccard_Similarity =round(generalized_jaccard(movieA,movieB),5)\n",
    "        Pearson_Correlation = round(pearson_correlation(movieA,movieB) , 5)\n",
    "        Normalized_Pearson_Correlation =round(normalized_pearson_correlation(movieA,movieB) , 5)\n",
    "        yield (item1,item2),(Cosine_Similarity,Jaccard_Similarity,Generalized_Jaccard_Similarity,Pearson_Correlation,Normalized_Pearson_Correlation)\n",
    "        \n",
    "if __name__ == '__main__':\n",
    "    MoviesSimilarities.run()\n"
   ]
  },
  {
   "cell_type": "code",
   "execution_count": 19,
   "metadata": {
    "collapsed": false,
    "scrolled": false
   },
   "outputs": [
    {
     "name": "stdout",
     "output_type": "stream",
     "text": [
      "no configs found; falling back on auto-configuration\n",
      "no configs found; falling back on auto-configuration\n",
      "creating tmp directory /tmp/movieSimilarities_with_MapReduce.root.20151203.022749.220517\n",
      "\n",
      "PLEASE NOTE: Starting in mrjob v0.5.0, protocols will be strict by default. It's recommended you run your job with --strict-protocols or set up mrjob.conf as described at https://pythonhosted.org/mrjob/whats-new.html#ready-for-strict-protocols\n",
      "\n",
      "writing to /tmp/movieSimilarities_with_MapReduce.root.20151203.022749.220517/step-0-mapper_part-00000\n",
      "Counters from step 1:\n",
      "  (no counters found)\n",
      "writing to /tmp/movieSimilarities_with_MapReduce.root.20151203.022749.220517/step-0-mapper-sorted\n",
      "> sort /tmp/movieSimilarities_with_MapReduce.root.20151203.022749.220517/step-0-mapper_part-00000\n",
      "writing to /tmp/movieSimilarities_with_MapReduce.root.20151203.022749.220517/step-0-reducer_part-00000\n",
      "Counters from step 1:\n",
      "  (no counters found)\n",
      "Moving /tmp/movieSimilarities_with_MapReduce.root.20151203.022749.220517/step-0-reducer_part-00000 -> /tmp/movieSimilarities_with_MapReduce.root.20151203.022749.220517/output/part-00000\n",
      "Streaming final output from /tmp/movieSimilarities_with_MapReduce.root.20151203.022749.220517/output\n",
      "[\"Just My Luck\", \"Lady in the Water\"]\t[0.93601, 0.16667, 0.66667, -0.94491, 0.02754]\n",
      "[\"Just My Luck\", \"Snakes on a Plane\"]\t[0.95762, 0.0, 0.65517, -0.33333, 0.33333]\n",
      "[\"Just My Luck\", \"Superman Returns\"]\t[0.92657, 0.125, 0.6129, -0.42289, 0.28855]\n",
      "[\"Just My Luck\", \"The Night Listener\"]\t[0.97489, 0.25, 0.7037, 0.55556, 0.77778]\n",
      "[\"Just My Luck\", \"You, Me and Dupree\"]\t[0.91841, 0.125, 0.73913, -0.48566, 0.25717]\n",
      "[\"Lady in the Water\", \"Snakes on a Plane\"]\t[0.99774, 0.1, 0.77778, 0.76376, 0.88188]\n",
      "[\"Lady in the Water\", \"Superman Returns\"]\t[0.9838, 0.1, 0.7, 0.48795, 0.74398]\n",
      "[\"Lady in the Water\", \"The Night Listener\"]\t[0.98188, 0.3, 0.875, -0.61237, 0.19381]\n",
      "[\"Lady in the Water\", \"You, Me and Dupree\"]\t[0.97818, 0.125, 0.84, 0.33333, 0.66667]\n",
      "[\"Snakes on a Plane\", \"Superman Returns\"]\t[0.97988, 0.35714, 0.83051, 0.1118, 0.5559]\n",
      "[\"Snakes on a Plane\", \"The Night Listener\"]\t[0.97065, 0.16667, 0.78723, -0.56635, 0.21682]\n",
      "[\"Snakes on a Plane\", \"You, Me and Dupree\"]\t[0.92003, 0.16667, 0.65217, -0.6455, 0.17725]\n",
      "[\"Superman Returns\", \"The Night Listener\"]\t[0.96123, 0.16667, 0.78, -0.17985, 0.41008]\n",
      "[\"Superman Returns\", \"You, Me and Dupree\"]\t[0.96808, 0.08333, 0.61224, 0.65795, 0.82898]\n",
      "[\"The Night Listener\", \"You, Me and Dupree\"]\t[0.95266, 0.0, 0.74286, -0.25, 0.375]\n",
      "removing tmp directory /tmp/movieSimilarities_with_MapReduce.root.20151203.022749.220517\n"
     ]
    }
   ],
   "source": [
    "! python movieSimilarities_with_MapReduce.py samp.csv"
   ]
  }
 ],
 "metadata": {
  "kernelspec": {
   "display_name": "Python 2",
   "language": "python",
   "name": "python2"
  },
  "language_info": {
   "codemirror_mode": {
    "name": "ipython",
    "version": 2
   },
   "file_extension": ".py",
   "mimetype": "text/x-python",
   "name": "python",
   "nbconvert_exporter": "python",
   "pygments_lexer": "ipython2",
   "version": "2.7.6"
  }
 },
 "nbformat": 4,
 "nbformat_minor": 0
}
